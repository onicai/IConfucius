{
 "cells": [
  {
   "cell_type": "markdown",
   "metadata": {},
   "source": [
    "# Convert images to jpg & create a Thumbnail"
   ]
  },
  {
   "cell_type": "markdown",
   "metadata": {},
   "source": [
    "# Settings"
   ]
  },
  {
   "cell_type": "code",
   "execution_count": null,
   "metadata": {},
   "outputs": [],
   "source": [
    "# The image to convert\n",
    "# IMAGE_DIR = \"../images/IConfucius\"\n",
    "# IMAGE_NAME = \"IConfucius\"\n",
    "# IMAGE_EXT = \"jpg\"\n",
    "\n",
    "IMAGE_DIR = \"../images/IConfucius-agent\"\n",
    "IMAGE_NAME = \"IConfucius-agent\"\n",
    "IMAGE_EXT = \"webp\"\n",
    "\n",
    "# IMAGE_DIR = \"../images/IConfucius-agent\"\n",
    "# IMAGE_NAME = \"IConfucius-agent\"\n",
    "# IMAGE_EXT = \"jpg\"\n",
    "\n",
    "# IMAGE_DIR = \"../images/IConfucius-agent\"\n",
    "# IMAGE_NAME = \"IConfucius-agent-ghibli\"\n",
    "# IMAGE_EXT = \"png\"\n",
    "\n",
    "# IMAGE_DIR = \"../images/IConfucius-agent-banner\"\n",
    "# IMAGE_NAME = \"IConfucius-agent-banner\"\n",
    "# IMAGE_EXT = \"webp\"\n",
    "\n",
    "# IMAGE_DIR = \"../images/IConfucius-banner\"\n",
    "# IMAGE_NAME = \"IConfucius-banner\"\n",
    "# IMAGE_EXT = \"webp\"\n",
    "\n",
    "# IMAGE_DIR = \"../images/StefanB\"\n",
    "# IMAGE_NAME = \"pfp-glasses\"\n",
    "# IMAGE_EXT = \"png\"\n",
    "\n",
    "IMAGE_INPUT_FILE = f\"{IMAGE_DIR}/{IMAGE_NAME}.{IMAGE_EXT}\"\n",
    "\n",
    "# The jpg output file\n",
    "IMAGE_OUTPUT_FILE = f\"{IMAGE_DIR}/{IMAGE_NAME}.jpg\"\n",
    "\n",
    "# Create thumbnail of a target file size\n",
    "THUMBNAIL_KB = 150\n",
    "# THUMBNAIL_KB = 200\n",
    "THUMBNAIL_FILE = f\"{IMAGE_DIR}/{IMAGE_NAME}-{THUMBNAIL_KB}kb.jpg\"\n",
    "THUMBNAIL_WIDTH = None  # Optional width of the thumbnail\n",
    "# THUMBNAIL_WIDTH = 200  # Optional width of the thumbnail"
   ]
  },
  {
   "cell_type": "markdown",
   "metadata": {},
   "source": [
    "## Verify we're in the Conda environment"
   ]
  },
  {
   "cell_type": "code",
   "execution_count": null,
   "metadata": {},
   "outputs": [],
   "source": [
    "import sys\n",
    "\n",
    "print(sys.executable)"
   ]
  },
  {
   "cell_type": "markdown",
   "metadata": {},
   "source": [
    "## Import python packages"
   ]
  },
  {
   "cell_type": "code",
   "execution_count": null,
   "metadata": {},
   "outputs": [],
   "source": [
    "import os\n",
    "import io\n",
    "\n",
    "import pprint\n",
    "from pathlib import Path\n",
    "import jupyter_black\n",
    "import textwrap\n",
    "import json\n",
    "\n",
    "from PIL import Image\n",
    "from IPython.display import display\n",
    "\n",
    "# Activate the jupyter_black extension, which reformats code cells with black\n",
    "# https://github.com/n8henrie/jupyter-black\n",
    "jupyter_black.load()"
   ]
  },
  {
   "cell_type": "markdown",
   "metadata": {},
   "source": [
    "# Convert the Image"
   ]
  },
  {
   "cell_type": "code",
   "execution_count": null,
   "metadata": {},
   "outputs": [],
   "source": [
    "im = Image.open(IMAGE_INPUT_FILE)\n",
    "im.convert(\"RGB\").save(IMAGE_OUTPUT_FILE, \"JPEG\")"
   ]
  },
  {
   "cell_type": "markdown",
   "metadata": {},
   "source": [
    "# Create the Thumbnail"
   ]
  },
  {
   "cell_type": "code",
   "execution_count": null,
   "metadata": {},
   "outputs": [],
   "source": [
    "def create_thumbnail(input_path, output_path, target_kb, max_width=None):\n",
    "    im = Image.open(input_path).convert(\"RGB\")\n",
    "\n",
    "    # Resize based on max_width while preserving aspect ratio\n",
    "    if max_width:\n",
    "        width_percent = max_width / im.width\n",
    "        new_height = int(im.height * width_percent)\n",
    "        im = im.resize((max_width, new_height), Image.LANCZOS)\n",
    "\n",
    "    quality = 100\n",
    "    min_quality = 30\n",
    "    step = 1\n",
    "\n",
    "    while quality >= min_quality:\n",
    "        # Save to buffer to check size\n",
    "        buffer = io.BytesIO()\n",
    "        im.save(buffer, format=\"JPEG\", quality=quality, optimize=True)\n",
    "        size_kb = buffer.tell() / 1024\n",
    "\n",
    "        if size_kb <= target_kb:\n",
    "            with open(output_path, \"wb\") as f:\n",
    "                f.write(buffer.getvalue())\n",
    "            print(f\"✅ Saved {output_path} at {size_kb:.2f} KB (quality={quality})\")\n",
    "            return True\n",
    "\n",
    "        quality -= step\n",
    "\n",
    "    # Save best effort if target not reached\n",
    "    with open(output_path, \"wb\") as f:\n",
    "        f.write(buffer.getvalue())\n",
    "    print(\n",
    "        f\"⚠️ Could not reach target. Saved at {size_kb:.2f} KB (quality={quality + step})\"\n",
    "    )\n",
    "    return False\n",
    "\n",
    "\n",
    "success = create_thumbnail(\n",
    "    input_path=IMAGE_INPUT_FILE,\n",
    "    output_path=THUMBNAIL_FILE,  # jpg output\n",
    "    target_kb=THUMBNAIL_KB,  # Target file size in KB\n",
    "    max_width=THUMBNAIL_WIDTH,  # Optional: Resize width, preserves aspect ratio\n",
    ")"
   ]
  },
  {
   "cell_type": "markdown",
   "metadata": {},
   "source": [
    "# Display the Thumbnail"
   ]
  },
  {
   "cell_type": "code",
   "execution_count": null,
   "metadata": {
    "vscode": {
     "languageId": "markdown"
    }
   },
   "outputs": [],
   "source": [
    "jpeg_image = Image.open(THUMBNAIL_FILE)\n",
    "display(jpeg_image)"
   ]
  }
 ],
 "metadata": {
  "kernelspec": {
   "display_name": "IConfucius",
   "language": "python",
   "name": "python3"
  },
  "language_info": {
   "codemirror_mode": {
    "name": "ipython",
    "version": 3
   },
   "file_extension": ".py",
   "mimetype": "text/x-python",
   "name": "python",
   "nbconvert_exporter": "python",
   "pygments_lexer": "ipython3",
   "version": "3.11.11"
  }
 },
 "nbformat": 4,
 "nbformat_minor": 2
}
